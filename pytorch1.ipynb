{
 "cells": [
  {
   "cell_type": "markdown",
   "metadata": {},
   "source": [
    "## 텐서(Tensors)"
   ]
  },
  {
   "cell_type": "markdown",
   "metadata": {},
   "source": [
    "* 넘파이(NumPy)의 ndarray와 유사"
   ]
  },
  {
   "cell_type": "markdown",
   "metadata": {},
   "source": [
    "* GPU를 사용한 연산 가속도 가능"
   ]
  },
  {
   "cell_type": "code",
   "execution_count": 4,
   "metadata": {},
   "outputs": [],
   "source": [
    "import torch"
   ]
  },
  {
   "cell_type": "markdown",
   "metadata": {},
   "source": [
    "### 파이토치 버전"
   ]
  },
  {
   "cell_type": "code",
   "execution_count": 5,
   "metadata": {},
   "outputs": [
    {
     "data": {
      "text/plain": [
       "'1.9.1+cpu'"
      ]
     },
     "execution_count": 5,
     "metadata": {},
     "output_type": "execute_result"
    }
   ],
   "source": [
    "torch.__version__"
   ]
  },
  {
   "cell_type": "markdown",
   "metadata": {},
   "source": [
    "### 초기화 되지 않은 행렬"
   ]
  },
  {
   "cell_type": "code",
   "execution_count": 6,
   "metadata": {},
   "outputs": [
    {
     "data": {
      "text/plain": [
       "tensor([[1.0502e-05, 2.1122e+20],\n",
       "        [3.2870e+21, 3.3382e-09],\n",
       "        [2.6541e-09, 1.3178e-08],\n",
       "        [2.1028e+20, 8.4958e+20]])"
      ]
     },
     "execution_count": 6,
     "metadata": {},
     "output_type": "execute_result"
    }
   ],
   "source": [
    "x = torch.empty(4, 2)\n",
    "x"
   ]
  },
  {
   "cell_type": "markdown",
   "metadata": {},
   "source": [
    "### 무작위로 초기화된 행렬"
   ]
  },
  {
   "cell_type": "code",
   "execution_count": 7,
   "metadata": {},
   "outputs": [
    {
     "data": {
      "text/plain": [
       "tensor([[0.4316, 0.0751],\n",
       "        [0.1206, 0.3718],\n",
       "        [0.0859, 0.5255],\n",
       "        [0.7955, 0.6552]])"
      ]
     },
     "execution_count": 7,
     "metadata": {},
     "output_type": "execute_result"
    }
   ],
   "source": [
    "x = torch.rand(4, 2)\n",
    "x"
   ]
  },
  {
   "cell_type": "markdown",
   "metadata": {},
   "source": [
    "### dtype이 long, 0으로 채워진 텐서"
   ]
  },
  {
   "cell_type": "code",
   "execution_count": 8,
   "metadata": {},
   "outputs": [
    {
     "data": {
      "text/plain": [
       "tensor([[0, 0],\n",
       "        [0, 0],\n",
       "        [0, 0],\n",
       "        [0, 0]])"
      ]
     },
     "execution_count": 8,
     "metadata": {},
     "output_type": "execute_result"
    }
   ],
   "source": [
    "x = torch.zeros(4, 2, dtype = torch.long)\n",
    "x"
   ]
  },
  {
   "cell_type": "markdown",
   "metadata": {},
   "source": [
    "### 리스트로 텐서만들기"
   ]
  },
  {
   "cell_type": "code",
   "execution_count": 9,
   "metadata": {},
   "outputs": [
    {
     "data": {
      "text/plain": [
       "tensor([3.0000, 2.3000])"
      ]
     },
     "execution_count": 9,
     "metadata": {},
     "output_type": "execute_result"
    }
   ],
   "source": [
    "x = torch.tensor([3, 2.3])  \n",
    "x"
   ]
  },
  {
   "cell_type": "markdown",
   "metadata": {},
   "source": [
    "### x를 새롭게 다시 생성"
   ]
  },
  {
   "cell_type": "code",
   "execution_count": 13,
   "metadata": {},
   "outputs": [
    {
     "data": {
      "text/plain": [
       "tensor([[1., 1., 1., 1.],\n",
       "        [1., 1., 1., 1.]], dtype=torch.float64)"
      ]
     },
     "execution_count": 13,
     "metadata": {},
     "output_type": "execute_result"
    }
   ],
   "source": [
    "x = x.new_ones(2, 4, dtype = torch.double)  \n",
    "x"
   ]
  },
  {
   "cell_type": "markdown",
   "metadata": {},
   "source": [
    "### 평균이 0이고 표준편차가 1인 정규분포를 이용, 사이즈를 기존 텐서를 이용"
   ]
  },
  {
   "cell_type": "code",
   "execution_count": 14,
   "metadata": {},
   "outputs": [
    {
     "data": {
      "text/plain": [
       "tensor([[ 0.3824, -0.3313,  0.1610,  0.0839],\n",
       "        [ 0.3456, -0.4647,  0.3690, -0.5924]])"
      ]
     },
     "execution_count": 14,
     "metadata": {},
     "output_type": "execute_result"
    }
   ],
   "source": [
    "x = torch.randn_like(x, dtype = torch.float)\n",
    "x"
   ]
  },
  {
   "cell_type": "markdown",
   "metadata": {},
   "source": [
    "### 텐서의 크기"
   ]
  },
  {
   "cell_type": "code",
   "execution_count": 15,
   "metadata": {},
   "outputs": [
    {
     "data": {
      "text/plain": [
       "torch.Size([2, 4])"
      ]
     },
     "execution_count": 15,
     "metadata": {},
     "output_type": "execute_result"
    }
   ],
   "source": [
    "x.size()"
   ]
  },
  {
   "cell_type": "markdown",
   "metadata": {},
   "source": [
    "### 텐서의 연산"
   ]
  },
  {
   "cell_type": "code",
   "execution_count": 18,
   "metadata": {},
   "outputs": [
    {
     "data": {
      "text/plain": [
       "tensor([[ 0.3824, -0.3313,  0.1610,  0.0839],\n",
       "        [ 0.3456, -0.4647,  0.3690, -0.5924]])"
      ]
     },
     "execution_count": 18,
     "metadata": {},
     "output_type": "execute_result"
    }
   ],
   "source": [
    "x"
   ]
  },
  {
   "cell_type": "code",
   "execution_count": 21,
   "metadata": {},
   "outputs": [
    {
     "name": "stdout",
     "output_type": "stream",
     "text": [
      "tensor([[0.0394, 0.4903, 0.6340, 0.9102],\n",
      "        [0.0191, 0.0499, 0.8789, 0.7934]])\n",
      "tensor([[1.6630, 0.4086, 2.2777, 1.3991],\n",
      "        [1.2288, 1.1878, 2.2622, 1.7117]])\n",
      "tensor([[1.6630, 0.4086, 2.2777, 1.3991],\n",
      "        [1.2288, 1.1878, 2.2622, 1.7117]])\n"
     ]
    }
   ],
   "source": [
    "y = torch.rand(2, 4)\n",
    "print(y)\n",
    "print(x + y)\n",
    "print(torch.add(x, y))"
   ]
  },
  {
   "cell_type": "markdown",
   "metadata": {},
   "source": [
    "* 결과 텐서를 인자로 제공"
   ]
  },
  {
   "cell_type": "code",
   "execution_count": 22,
   "metadata": {},
   "outputs": [
    {
     "data": {
      "text/plain": [
       "tensor([[1.6630, 0.4086, 2.2777, 1.3991],\n",
       "        [1.2288, 1.1878, 2.2622, 1.7117]])"
      ]
     },
     "execution_count": 22,
     "metadata": {},
     "output_type": "execute_result"
    }
   ],
   "source": [
    "result = torch.empty(2, 4)\n",
    "torch.add(x, y, out = result)"
   ]
  },
  {
   "cell_type": "markdown",
   "metadata": {},
   "source": [
    "* in-place 방식\n",
    "* 텐서의 값을 변경하는 연산 뒤에는 _가 붙음"
   ]
  },
  {
   "cell_type": "code",
   "execution_count": 24,
   "metadata": {},
   "outputs": [
    {
     "name": "stdout",
     "output_type": "stream",
     "text": [
      "tensor([[1.6630, 0.4086, 2.2777, 1.3991],\n",
      "        [1.2288, 1.1878, 2.2622, 1.7117]])\n",
      "tensor([[0.0394, 0.4903, 0.6340, 0.9102],\n",
      "        [0.0191, 0.0499, 0.8789, 0.7934]])\n",
      "tensor([[1.7024, 0.8990, 2.9117, 2.3092],\n",
      "        [1.2479, 1.2377, 3.1411, 2.5051]])\n"
     ]
    }
   ],
   "source": [
    "print(x)\n",
    "print(y)\n",
    "y.add_(x)\n",
    "print(y)"
   ]
  },
  {
   "cell_type": "markdown",
   "metadata": {},
   "source": [
    "### 그 외의 연산\n",
    "* torch.sub : 뺄셈\n",
    "* torch.mul : 곱셈\n",
    "* torch.div : 나눗셈\n",
    "* torch.mm : 내적(dot product)"
   ]
  },
  {
   "cell_type": "code",
   "execution_count": 27,
   "metadata": {},
   "outputs": [
    {
     "name": "stdout",
     "output_type": "stream",
     "text": [
      "tensor([[0.5786, 0.1503],\n",
      "        [0.2430, 0.9889]])\n",
      "tensor([[0.8378, 0.5845],\n",
      "        [0.5264, 0.9716]])\n"
     ]
    },
    {
     "data": {
      "text/plain": [
       "tensor([[0.5639, 0.4842],\n",
       "        [0.7242, 1.1029]])"
      ]
     },
     "execution_count": 27,
     "metadata": {},
     "output_type": "execute_result"
    }
   ],
   "source": [
    "x = torch.rand(2, 2)\n",
    "y = torch.rand(2, 2)\n",
    "print(x)\n",
    "print(y)\n",
    "torch.mm(x, y)"
   ]
  },
  {
   "cell_type": "markdown",
   "metadata": {},
   "source": [
    "## 텐서의 조작"
   ]
  },
  {
   "cell_type": "markdown",
   "metadata": {},
   "source": [
    "## 인덱싱\n",
    "* 넘파이처럼 인덱싱 사용가능"
   ]
  },
  {
   "cell_type": "code",
   "execution_count": 28,
   "metadata": {},
   "outputs": [
    {
     "name": "stdout",
     "output_type": "stream",
     "text": [
      "tensor([[0.5786, 0.1503],\n",
      "        [0.2430, 0.9889]])\n",
      "tensor([0.1503, 0.9889])\n"
     ]
    }
   ],
   "source": [
    "print(x)\n",
    "print(x[:,1])"
   ]
  },
  {
   "cell_type": "markdown",
   "metadata": {},
   "source": [
    "## view\n",
    "* 텐서의 크기(size)나 모양(shape)을 변경"
   ]
  },
  {
   "cell_type": "code",
   "execution_count": 29,
   "metadata": {},
   "outputs": [
    {
     "name": "stdout",
     "output_type": "stream",
     "text": [
      "tensor([[-0.4502, -0.3550,  0.8566, -0.4561,  0.1974],\n",
      "        [ 0.0636,  1.0519,  0.4441,  0.9797,  0.2663],\n",
      "        [-0.0231, -0.4327,  0.4934, -1.3232, -0.1901],\n",
      "        [-0.6623, -1.1596,  1.5426, -0.4815, -0.2648]])\n",
      "tensor([-0.4502, -0.3550,  0.8566, -0.4561,  0.1974,  0.0636,  1.0519,  0.4441,\n",
      "         0.9797,  0.2663, -0.0231, -0.4327,  0.4934, -1.3232, -0.1901, -0.6623,\n",
      "        -1.1596,  1.5426, -0.4815, -0.2648])\n",
      "tensor([[-0.4502, -0.3550,  0.8566, -0.4561],\n",
      "        [ 0.1974,  0.0636,  1.0519,  0.4441],\n",
      "        [ 0.9797,  0.2663, -0.0231, -0.4327],\n",
      "        [ 0.4934, -1.3232, -0.1901, -0.6623],\n",
      "        [-1.1596,  1.5426, -0.4815, -0.2648]])\n"
     ]
    }
   ],
   "source": [
    "x = torch.randn(4, 5)\n",
    "y = x.view(20)\n",
    "z = x.view(5, -1)  # -1은 자동계산\n",
    "\n",
    "print(x)\n",
    "print(y)\n",
    "print(z)"
   ]
  },
  {
   "cell_type": "markdown",
   "metadata": {},
   "source": [
    "### item\n",
    "* 텐서에 값이 단 하나라도 존재하면 숫자값을 얻을 수 있음"
   ]
  },
  {
   "cell_type": "code",
   "execution_count": 30,
   "metadata": {},
   "outputs": [
    {
     "name": "stdout",
     "output_type": "stream",
     "text": [
      "tensor([-0.2587])\n",
      "-0.2586962580680847\n",
      "torch.float32\n"
     ]
    }
   ],
   "source": [
    "x = torch.randn(1)\n",
    "print(x)\n",
    "print(x.item())\n",
    "print(x.dtype)"
   ]
  },
  {
   "cell_type": "markdown",
   "metadata": {},
   "source": [
    "* 스칼라값 하나만 존재해야함"
   ]
  },
  {
   "cell_type": "code",
   "execution_count": 31,
   "metadata": {},
   "outputs": [
    {
     "name": "stdout",
     "output_type": "stream",
     "text": [
      "tensor([-0.4156,  0.3907])\n"
     ]
    },
    {
     "ename": "ValueError",
     "evalue": "only one element tensors can be converted to Python scalars",
     "output_type": "error",
     "traceback": [
      "\u001b[1;31m---------------------------------------------------------------------------\u001b[0m",
      "\u001b[1;31mValueError\u001b[0m                                Traceback (most recent call last)",
      "\u001b[1;32m<ipython-input-31-986bdabc345f>\u001b[0m in \u001b[0;36m<module>\u001b[1;34m\u001b[0m\n\u001b[0;32m      1\u001b[0m \u001b[0mx\u001b[0m \u001b[1;33m=\u001b[0m \u001b[0mtorch\u001b[0m\u001b[1;33m.\u001b[0m\u001b[0mrandn\u001b[0m\u001b[1;33m(\u001b[0m\u001b[1;36m2\u001b[0m\u001b[1;33m)\u001b[0m\u001b[1;33m\u001b[0m\u001b[1;33m\u001b[0m\u001b[0m\n\u001b[0;32m      2\u001b[0m \u001b[0mprint\u001b[0m\u001b[1;33m(\u001b[0m\u001b[0mx\u001b[0m\u001b[1;33m)\u001b[0m\u001b[1;33m\u001b[0m\u001b[1;33m\u001b[0m\u001b[0m\n\u001b[1;32m----> 3\u001b[1;33m \u001b[0mprint\u001b[0m\u001b[1;33m(\u001b[0m\u001b[0mx\u001b[0m\u001b[1;33m.\u001b[0m\u001b[0mitem\u001b[0m\u001b[1;33m(\u001b[0m\u001b[1;33m)\u001b[0m\u001b[1;33m)\u001b[0m\u001b[1;33m\u001b[0m\u001b[1;33m\u001b[0m\u001b[0m\n\u001b[0m",
      "\u001b[1;31mValueError\u001b[0m: only one element tensors can be converted to Python scalars"
     ]
    }
   ],
   "source": [
    "x = torch.randn(2)\n",
    "print(x)\n",
    "print(x.item())"
   ]
  },
  {
   "cell_type": "markdown",
   "metadata": {},
   "source": [
    "### squeeze\n",
    "* 차원을 축소(제거)"
   ]
  },
  {
   "cell_type": "code",
   "execution_count": 36,
   "metadata": {},
   "outputs": [
    {
     "name": "stdout",
     "output_type": "stream",
     "text": [
      "tensor([[[0.4005, 0.1993, 0.4667],\n",
      "         [0.4095, 0.7306, 0.2649],\n",
      "         [0.3846, 0.6392, 0.2644]]])\n"
     ]
    },
    {
     "data": {
      "text/plain": [
       "torch.Size([1, 3, 3])"
      ]
     },
     "execution_count": 36,
     "metadata": {},
     "output_type": "execute_result"
    }
   ],
   "source": [
    "tensor = torch.rand(1, 3, 3)\n",
    "print(tensor)\n",
    "tensor.shape"
   ]
  },
  {
   "cell_type": "code",
   "execution_count": 37,
   "metadata": {},
   "outputs": [
    {
     "name": "stdout",
     "output_type": "stream",
     "text": [
      "tensor([[0.4005, 0.1993, 0.4667],\n",
      "        [0.4095, 0.7306, 0.2649],\n",
      "        [0.3846, 0.6392, 0.2644]])\n"
     ]
    },
    {
     "data": {
      "text/plain": [
       "torch.Size([3, 3])"
      ]
     },
     "execution_count": 37,
     "metadata": {},
     "output_type": "execute_result"
    }
   ],
   "source": [
    "t = tensor.squeeze()\n",
    "print(t)\n",
    "t.shape"
   ]
  },
  {
   "cell_type": "markdown",
   "metadata": {},
   "source": [
    "### unsqueeze\n",
    "* 차원을 증가(생성)"
   ]
  },
  {
   "cell_type": "code",
   "execution_count": 38,
   "metadata": {},
   "outputs": [
    {
     "name": "stdout",
     "output_type": "stream",
     "text": [
      "tensor([[[0.4137, 0.4227, 0.6230],\n",
      "         [0.5770, 0.2831, 0.5619],\n",
      "         [0.1631, 0.5152, 0.9009]]])\n"
     ]
    },
    {
     "data": {
      "text/plain": [
       "torch.Size([1, 3, 3])"
      ]
     },
     "execution_count": 38,
     "metadata": {},
     "output_type": "execute_result"
    }
   ],
   "source": [
    "tensor = torch.rand(1, 3, 3)\n",
    "print(tensor)\n",
    "tensor.shape"
   ]
  },
  {
   "cell_type": "code",
   "execution_count": 45,
   "metadata": {},
   "outputs": [
    {
     "name": "stdout",
     "output_type": "stream",
     "text": [
      "tensor([[[[0.4137, 0.4227, 0.6230],\n",
      "          [0.5770, 0.2831, 0.5619],\n",
      "          [0.1631, 0.5152, 0.9009]]]])\n"
     ]
    },
    {
     "data": {
      "text/plain": [
       "torch.Size([1, 1, 3, 3])"
      ]
     },
     "execution_count": 45,
     "metadata": {},
     "output_type": "execute_result"
    }
   ],
   "source": [
    "t = tensor.unsqueeze(dim=0)\n",
    "print(t)\n",
    "t.shape"
   ]
  },
  {
   "cell_type": "markdown",
   "metadata": {},
   "source": [
    "### stack\n",
    "* 텐서간 결합"
   ]
  },
  {
   "cell_type": "code",
   "execution_count": 51,
   "metadata": {},
   "outputs": [
    {
     "data": {
      "text/plain": [
       "tensor([[1., 4.],\n",
       "        [2., 5.],\n",
       "        [3., 6.]])"
      ]
     },
     "execution_count": 51,
     "metadata": {},
     "output_type": "execute_result"
    }
   ],
   "source": [
    "x = torch.FloatTensor([1, 4])\n",
    "y = torch.FloatTensor([2, 5])\n",
    "z = torch.FloatTensor([3, 6])\n",
    "torch.stack([x, y, z])"
   ]
  },
  {
   "cell_type": "markdown",
   "metadata": {},
   "source": [
    "### cat\n",
    "* 텐서를 결합하는 메소드(concatenate)\n",
    "* 넘파이의 stack 과 유사하지만 쌓을 dim이 존재해야함\n",
    "* 예를 들어 해당 차원을 늘려준 후 결함"
   ]
  },
  {
   "cell_type": "code",
   "execution_count": 53,
   "metadata": {},
   "outputs": [
    {
     "name": "stdout",
     "output_type": "stream",
     "text": [
      "tensor([[[[ 1.6888,  1.4770, -0.9385],\n",
      "          [ 1.2033, -0.0283,  0.2056],\n",
      "          [ 0.1625, -0.8324,  0.2591]]],\n",
      "\n",
      "\n",
      "        [[[-0.2469, -0.7414,  0.7823],\n",
      "          [ 0.3723, -0.1536,  0.8327],\n",
      "          [-0.8015,  0.9747,  0.8579]]]])\n",
      "torch.Size([2, 1, 3, 3])\n"
     ]
    }
   ],
   "source": [
    "a = torch.randn(1, 1, 3, 3)\n",
    "b = torch.randn(1, 1, 3, 3)\n",
    "c = torch.cat((a, b), dim = 0)\n",
    "\n",
    "print(c)\n",
    "print(c.size())"
   ]
  },
  {
   "cell_type": "code",
   "execution_count": 54,
   "metadata": {},
   "outputs": [
    {
     "name": "stdout",
     "output_type": "stream",
     "text": [
      "tensor([[[ 0.3725,  0.5246, -0.2202],\n",
      "         [ 0.1294, -0.7842, -0.2819],\n",
      "         [-1.6353, -0.2273,  0.5048]],\n",
      "\n",
      "        [[-0.2093, -0.1785, -0.5688],\n",
      "         [ 0.8372, -1.9802,  0.5513],\n",
      "         [-0.1318, -0.2446, -0.1446]]])\n",
      "torch.Size([2, 3, 3])\n"
     ]
    }
   ],
   "source": [
    "a = torch.randn(1, 3, 3)\n",
    "b = torch.randn(1, 3, 3)\n",
    "c = torch.cat((a, b), dim = 0)\n",
    "\n",
    "print(c)\n",
    "print(c.size())"
   ]
  },
  {
   "cell_type": "markdown",
   "metadata": {},
   "source": [
    "### chunk\n",
    "* 텐서를 여러 개로 나눌 때 사용\n",
    "* 몇 개의 텐서로 나눌 것이냐"
   ]
  },
  {
   "cell_type": "code",
   "execution_count": 55,
   "metadata": {},
   "outputs": [
    {
     "name": "stdout",
     "output_type": "stream",
     "text": [
      "tensor([[0.0560, 0.6273, 0.3707, 0.8737, 0.7144, 0.4247],\n",
      "        [0.8569, 0.0442, 0.9955, 0.2902, 0.0340, 0.6519],\n",
      "        [0.3047, 0.9980, 0.9744, 0.2774, 0.1580, 0.6887]])\n",
      "tensor([[0.0560, 0.6273],\n",
      "        [0.8569, 0.0442],\n",
      "        [0.3047, 0.9980]])\n",
      "tensor([[0.3707, 0.8737],\n",
      "        [0.9955, 0.2902],\n",
      "        [0.9744, 0.2774]])\n",
      "tensor([[0.7144, 0.4247],\n",
      "        [0.0340, 0.6519],\n",
      "        [0.1580, 0.6887]])\n"
     ]
    }
   ],
   "source": [
    "tensor = torch.rand(3, 6)\n",
    "t1, t2, t3 = torch.chunk(tensor, 3, dim = 1)\n",
    "\n",
    "print(tensor)\n",
    "print(t1)\n",
    "print(t2)\n",
    "print(t3)"
   ]
  },
  {
   "cell_type": "markdown",
   "metadata": {},
   "source": [
    "### split\n",
    "* chunk와 동일한 기능이지만 조금 다름\n",
    "* 하나의 텐서당 크기가 얼마이냐"
   ]
  },
  {
   "cell_type": "code",
   "execution_count": 56,
   "metadata": {},
   "outputs": [
    {
     "name": "stdout",
     "output_type": "stream",
     "text": [
      "tensor([[0.8270, 0.7807, 0.2174, 0.6563, 0.8264, 0.7452],\n",
      "        [0.6929, 0.7896, 0.4738, 0.7316, 0.4245, 0.7533],\n",
      "        [0.3799, 0.9453, 0.0047, 0.8096, 0.1347, 0.7260]])\n",
      "tensor([[0.8270, 0.7807, 0.2174],\n",
      "        [0.6929, 0.7896, 0.4738],\n",
      "        [0.3799, 0.9453, 0.0047]])\n",
      "tensor([[0.6563, 0.8264, 0.7452],\n",
      "        [0.7316, 0.4245, 0.7533],\n",
      "        [0.8096, 0.1347, 0.7260]])\n"
     ]
    }
   ],
   "source": [
    "tensor = torch.rand(3, 6)\n",
    "t1, t2 = torch.split(tensor, 3, dim = 1)\n",
    "\n",
    "print(tensor)\n",
    "print(t1)\n",
    "print(t2)"
   ]
  },
  {
   "cell_type": "markdown",
   "metadata": {},
   "source": [
    "### torch ↔ numpy\n",
    "* Torch Tensor(텐서)를 Numpy array(배열)로 변환 가능\n",
    "* numpy()\n",
    "* from_numpy()\n",
    "* Tensor가 CPU상에 있다면 Numpy 배열은 메모리 공간을 공유하므로\n",
    "  하나가 변하면 다른 하나도 변함"
   ]
  },
  {
   "cell_type": "code",
   "execution_count": 57,
   "metadata": {},
   "outputs": [
    {
     "data": {
      "text/plain": [
       "tensor([1., 1., 1., 1., 1., 1., 1.])"
      ]
     },
     "execution_count": 57,
     "metadata": {},
     "output_type": "execute_result"
    }
   ],
   "source": [
    "a = torch.ones(7)\n",
    "a"
   ]
  },
  {
   "cell_type": "code",
   "execution_count": 58,
   "metadata": {},
   "outputs": [
    {
     "data": {
      "text/plain": [
       "array([1., 1., 1., 1., 1., 1., 1.], dtype=float32)"
      ]
     },
     "execution_count": 58,
     "metadata": {},
     "output_type": "execute_result"
    }
   ],
   "source": [
    "b = a.numpy()\n",
    "b"
   ]
  },
  {
   "cell_type": "code",
   "execution_count": 59,
   "metadata": {},
   "outputs": [
    {
     "name": "stdout",
     "output_type": "stream",
     "text": [
      "tensor([2., 2., 2., 2., 2., 2., 2.])\n",
      "[2. 2. 2. 2. 2. 2. 2.]\n"
     ]
    }
   ],
   "source": [
    "a.add_(1)\n",
    "print(a)\n",
    "print(b)"
   ]
  },
  {
   "cell_type": "code",
   "execution_count": 60,
   "metadata": {},
   "outputs": [
    {
     "name": "stdout",
     "output_type": "stream",
     "text": [
      "[2. 2. 2. 2. 2. 2. 2.]\n",
      "tensor([2., 2., 2., 2., 2., 2., 2.], dtype=torch.float64)\n"
     ]
    }
   ],
   "source": [
    "import numpy as np\n",
    "a = np.ones(7)\n",
    "b = torch.from_numpy(a)\n",
    "np.add(a, 1, out = a)\n",
    "print(a)\n",
    "print(b)"
   ]
  },
  {
   "cell_type": "code",
   "execution_count": null,
   "metadata": {},
   "outputs": [],
   "source": []
  }
 ],
 "metadata": {
  "kernelspec": {
   "display_name": "Python 3",
   "language": "python",
   "name": "python3"
  },
  "language_info": {
   "codemirror_mode": {
    "name": "ipython",
    "version": 3
   },
   "file_extension": ".py",
   "mimetype": "text/x-python",
   "name": "python",
   "nbconvert_exporter": "python",
   "pygments_lexer": "ipython3",
   "version": "3.6.13"
  }
 },
 "nbformat": 4,
 "nbformat_minor": 5
}
